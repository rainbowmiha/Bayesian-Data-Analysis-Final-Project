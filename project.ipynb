{
 "cells": [
  {
   "cell_type": "markdown",
   "metadata": {},
   "source": [
    "# Bayesian Data Analysis - Project"
   ]
  },
  {
   "cell_type": "code",
   "execution_count": 1,
   "metadata": {
    "scrolled": true
   },
   "outputs": [],
   "source": [
    "%%capture\n",
    "import pystan\n",
    "import matplotlib.pyplot as plt\n",
    "import pandas as pd\n",
    "from IPython.display import display, Math, Latex\n",
    "\n",
    "code = \"\"\"\n",
    "data {\n",
    "    int<lower=0> N;  // number of data points\n",
    "    vector[N] x;     // observation year\n",
    "    vector[N] y;     // observation number of drowned\n",
    "    real xpred;      // prediction year\n",
    "}\n",
    "parameters {\n",
    "    real alpha;\n",
    "    real beta;\n",
    "    real<lower=0> sigma;\n",
    "}\n",
    "transformed parameters {\n",
    "    vector[N] mu;\n",
    "    mu = alpha + beta*x;\n",
    "}\n",
    "model {\n",
    "    beta ~ normal(0, 18.5483);\n",
    "    y ~ normal(mu, sigma);\n",
    "}\n",
    "generated quantities {\n",
    "    real ypred;\n",
    "    ypred = normal_rng(alpha+beta*xpred, sigma);\n",
    "}\n",
    "\"\"\"\n",
    "sm = pystan.StanModel(model_code=code)"
   ]
  },
  {
   "cell_type": "markdown",
   "metadata": {},
   "source": [
    "We can then sample from the model with the data."
   ]
  },
  {
   "cell_type": "code",
   "execution_count": 2,
   "metadata": {},
   "outputs": [],
   "source": [
    "year_list = []\n",
    "number_list = []\n",
    "with open(\"drowning.txt\", \"r\") as ifile:\n",
    "    for line in ifile:\n",
    "        values = line.split()\n",
    "        year_list.append(int(values[0])) \n",
    "        number_list.append(int(values[1])) \n",
    "\n",
    "drowning_dat = {'N': len(year_list),\n",
    "               'x': year_list,\n",
    "               'y': number_list,\n",
    "               'xpred': 2019\n",
    "              }\n",
    "fit = sm.sampling(data=drowning_dat)"
   ]
  },
  {
   "cell_type": "markdown",
   "metadata": {},
   "source": [
    "The resulting scatterplots are then as follows:"
   ]
  },
  {
   "cell_type": "code",
   "execution_count": 3,
   "metadata": {},
   "outputs": [
    {
     "data": {
      "image/png": "[encoded data removed]",
      "text/plain": [
       "<Figure size 432x288 with 1 Axes>"
      ]
     },
     "metadata": {},
     "output_type": "display_data"
    },
    {
     "data": {
      "image/png": "[encoded data removed]",
      "text/plain": [
       "<Figure size 432x288 with 1 Axes>"
      ]
     },
     "metadata": {},
     "output_type": "display_data"
    }
   ],
   "source": [
    "s = fit.summary()\n",
    "samples = fit.extract(permuted=True)\n",
    "\n",
    "plt.hist(samples['beta'], bins=50)\n",
    "plt.xlim([-2.5, 1])\n",
    "plt.title(\"Samples of beta\")\n",
    "plt.show()\n",
    "\n",
    "\n",
    "plt.hist(samples['ypred'], bins=50)\n",
    "plt.xlim([0, 250])\n",
    "plt.title(\"Samples of the prediction for year 2019\")\n",
    "plt.show()\n"
   ]
  }
 ],
 "metadata": {
  "kernelspec": {
   "display_name": "Python 3",
   "language": "python",
   "name": "python3"
  },
  "language_info": {
   "codemirror_mode": {
    "name": "ipython",
    "version": 3
   },
   "file_extension": ".py",
   "mimetype": "text/x-python",
   "name": "python",
   "nbconvert_exporter": "python",
   "pygments_lexer": "ipython3",
   "version": "3.6.6"
  }
 },
 "nbformat": 4,
 "nbformat_minor": 2
}
