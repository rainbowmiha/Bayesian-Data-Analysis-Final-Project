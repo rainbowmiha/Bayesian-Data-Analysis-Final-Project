{
 "cells": [
  {
   "cell_type": "markdown",
   "metadata": {},
   "source": [
    "# Bayesian Data Analysis - Project"
   ]
  },
  {
   "cell_type": "code",
   "execution_count": 43,
   "metadata": {
    "scrolled": true
   },
   "outputs": [],
   "source": [
    "%%capture\n",
    "import pystan\n",
    "from psis import *\n",
    "import matplotlib.pyplot as plt\n",
    "import pandas as pd\n",
    "from IPython.display import display, Math, Latex\n",
    "from IPython.display import HTML, display"
   ]
  },
  {
   "cell_type": "code",
   "execution_count": 46,
   "metadata": {},
   "outputs": [],
   "source": [
    "year_list = []\n",
    "life_expectancy_data = []\n",
    "with open(\"lifex.csv\", \"r\") as ifile:\n",
    "    year_list = [int(x) for x in ifile.readline().split(\",\")[1:-1]] # add n to first index to skip first n values\n",
    "    for line in ifile:\n",
    "        life_expectancy_data.append([float(x) for x in line.split(\",\")[1:-1]]) # same here\n",
    "\n",
    "life_expectancy_data = np.array(life_expectancy_data)\n",
    "N = life_expectancy_data.shape[1]\n",
    "K = life_expectancy_data.shape[0]\n",
    "#ind = [x+1 for x in range(life_expectancy_data.shape[0]) for _ in range(life_expectancy_data.shape[1])]\n",
    "y = life_expectancy_data\n",
    "x = year_list\n",
    "xpred = [2017, 2018, 2019, 2020, 2030, 2050]\n",
    "stan_data = dict(N=N, K=K, x=x, y=y, ind=ind, xpred=xpred, M=len(xpred))\n"
   ]
  },
  {
   "cell_type": "markdown",
   "metadata": {},
   "source": [
    "### Separate model"
   ]
  },
  {
   "cell_type": "code",
   "execution_count": 47,
   "metadata": {},
   "outputs": [
    {
     "name": "stderr",
     "output_type": "stream",
     "text": [
      "/opt/conda/lib/python3.6/site-packages/Cython/Compiler/Main.py:367: FutureWarning: Cython directive 'language_level' not set, using 2 for now (Py2). This will change in a later release! File: /tmp/tmp5o88vd95/stanfit4anon_model_23c5e52a92246bcea8cc2cd1d0780116_3941377176262403067.pyx\n",
      "  tree = Parsing.p_module(s, pxd, full_module_name)\n"
     ]
    }
   ],
   "source": [
    "code_separate = \"\"\"\n",
    "data {\n",
    "    int<lower=0> N;  // number of data points\n",
    "    int<lower=0> K;  // number of countries\n",
    "    vector[N] x;     // observation year\n",
    "    matrix[K, N] y;  // observation life expectancy\n",
    "    int<lower=0> M;  // number of predictions\n",
    "    real xpred[M];      // prediction year\n",
    "}\n",
    "parameters {\n",
    "    real alpha[K];\n",
    "    real beta[K];\n",
    "    real<lower=0> sigma[K];\n",
    "}\n",
    "transformed parameters {\n",
    "    vector[N] mu[K];\n",
    "    for (k in 1:K)\n",
    "        mu[k] = alpha[k] + beta[k]*x;\n",
    "}\n",
    "model {\n",
    "    //beta ~ normal(0, 18.5483); //assign priors here\n",
    "    for (k in 1:K)\n",
    "        y[k] ~ normal(mu[k], sigma[k]);\n",
    "}\n",
    "generated quantities {\n",
    "    real ypred[K, M];\n",
    "    matrix[K, N] log_lik;\n",
    "    for (k in 1:K)\n",
    "        for (m in 1:M)\n",
    "            ypred[k,m] = normal_rng(alpha[k]+beta[k]*xpred[m], sigma[k]);\n",
    "    for (k in 1:K)\n",
    "        for (n in 1:N)\n",
    "            log_lik[k, n] <- normal_log(y[k, n], mu[k][n], sigma[k]);\n",
    "}\n",
    "\"\"\"\n",
    "sm_separate = pystan.StanModel(model_code=code_separate)"
   ]
  },
  {
   "cell_type": "markdown",
   "metadata": {},
   "source": [
    "We can then sample from the model with the data."
   ]
  },
  {
   "cell_type": "code",
   "execution_count": 48,
   "metadata": {},
   "outputs": [
    {
     "name": "stdout",
     "output_type": "stream",
     "text": [
      "(8000, 5, 57)\n"
     ]
    }
   ],
   "source": [
    "fit_separate = sm_separate.sampling(data=stan_data, iter=4000); #, iter=4000\n",
    "samples_separate = fit_separate.extract(permuted=True);\n",
    "print(samples_separate[\"log_lik\"].shape)"
   ]
  },
  {
   "cell_type": "code",
   "execution_count": 50,
   "metadata": {},
   "outputs": [],
   "source": [
    "log_lik_separate = samples_separate[\"log_lik\"].reshape(samples_separate[\"log_lik\"].shape[0], samples_separate[\"log_lik\"].shape[1]*samples_separate[\"log_lik\"].shape[2])\n",
    "sep_loo, sep_loos, sep_ks = psisloo(log_lik_separate)\n",
    "sep_lppd = np.sum(np.log(np.mean(np.exp(log_lik_separate), axis=0)))\n",
    "sep_peff = sep_lppd-sep_loo\n",
    "# print(sep_loo)\n",
    "# print(sep_peff)\n",
    "# print(sum(sep_ks<.7)/len(sep_ks))"
   ]
  },
  {
   "cell_type": "markdown",
   "metadata": {},
   "source": [
    "### Pooled model\n",
    "absolutely useless in this case"
   ]
  },
  {
   "cell_type": "code",
   "execution_count": 6,
   "metadata": {},
   "outputs": [
    {
     "name": "stderr",
     "output_type": "stream",
     "text": [
      "/opt/conda/lib/python3.6/site-packages/Cython/Compiler/Main.py:367: FutureWarning: Cython directive 'language_level' not set, using 2 for now (Py2). This will change in a later release! File: /tmp/tmpsu9v5fj4/stanfit4anon_model_a032551cfd11e42adfb10f4c00f3c6d4_1855022194978445426.pyx\n",
      "  tree = Parsing.p_module(s, pxd, full_module_name)\n"
     ]
    }
   ],
   "source": [
    "code_pooled = \"\"\"\n",
    "data {\n",
    "    int<lower=0> N;  // number of data points\n",
    "    int<lower=0> K;  // number of countries\n",
    "    //int<lower=0, upper=K> ind[N]; // country indicator\n",
    "    vector[N] x;     // observation year\n",
    "    matrix[K, N] y;  // observation life expectancy\n",
    "    real xpred;      // prediction year\n",
    "}\n",
    "parameters {\n",
    "    real alpha;\n",
    "    real beta;\n",
    "    real<lower=0> sigma;\n",
    "}\n",
    "transformed parameters {\n",
    "    vector[N] mu;\n",
    "    mu = alpha + beta*x;\n",
    "}\n",
    "model {\n",
    "    //beta ~ normal(0, 18.5483); //assign priors here\n",
    "    for (k in 1:K)\n",
    "        y[k] ~ normal(mu, sigma);\n",
    "}\n",
    "generated quantities {\n",
    "    real ypred[K];\n",
    "    for (k in 1:K)\n",
    "        ypred[k] = normal_rng(alpha+beta*xpred, sigma);\n",
    "}\n",
    "\"\"\"\n",
    "sm_pooled = pystan.StanModel(model_code=code_pooled)"
   ]
  },
  {
   "cell_type": "code",
   "execution_count": null,
   "metadata": {},
   "outputs": [],
   "source": [
    "fit = sm_pooled.sampling(data=stan_data);\n",
    "# print(fit)"
   ]
  },
  {
   "cell_type": "markdown",
   "metadata": {},
   "source": [
    "### Hierarchical model"
   ]
  },
  {
   "cell_type": "code",
   "execution_count": 52,
   "metadata": {},
   "outputs": [
    {
     "name": "stderr",
     "output_type": "stream",
     "text": [
      "/opt/conda/lib/python3.6/site-packages/Cython/Compiler/Main.py:367: FutureWarning: Cython directive 'language_level' not set, using 2 for now (Py2). This will change in a later release! File: /tmp/tmpm8bjxmxw/stanfit4anon_model_ec212b0a2d5d1f302172dfb4149463ce_6659576775962529023.pyx\n",
      "  tree = Parsing.p_module(s, pxd, full_module_name)\n"
     ]
    }
   ],
   "source": [
    "code_hierarchical = \"\"\"\n",
    "data {\n",
    "    int<lower=0> N;  // number of data points\n",
    "    int<lower=0> K;  // number of countries\n",
    "    vector[N] x;     // observation year\n",
    "    matrix[K, N] y;  // observation life expectancy\n",
    "    int<lower=0> M;  // number of predictions\n",
    "    real xpred[M];      // prediction year\n",
    "}\n",
    "parameters {\n",
    "    real alpha[K];\n",
    "    real alpha0;\n",
    "    real beta[K];\n",
    "    real beta0;\n",
    "    real<lower=0> sigma;\n",
    "    real<lower=0> sigmaalpha;\n",
    "    real<lower=0> sigmabeta;\n",
    "}\n",
    "transformed parameters {\n",
    "    vector[N] mu[K];\n",
    "    for (k in 1:K)\n",
    "        mu[k] = alpha[k] + beta[k]*x;\n",
    "}\n",
    "model {\n",
    "    alpha ~ normal(alpha0, sigmaalpha);\n",
    "    beta  ~ normal(beta0, sigmabeta);\n",
    "    //beta ~ normal(0, 18.5483); //assign priors here\n",
    "    for (k in 1:K)\n",
    "        y[k] ~ normal(mu[k], sigma);\n",
    "}\n",
    "generated quantities {\n",
    "    real ypred[K, M];\n",
    "    matrix[K, N] log_lik;\n",
    "    for (k in 1:K)\n",
    "        for (m in 1:M)\n",
    "            ypred[k,m] = normal_rng(alpha[k]+beta[k]*xpred[m], sigma);\n",
    "    for (k in 1:K)\n",
    "        for (n in 1:N)\n",
    "            log_lik[k, n] <- normal_log(y[k, n], mu[k][n], sigma);\n",
    "    \n",
    "}\n",
    "\"\"\"\n",
    "sm_hierarchical = pystan.StanModel(model_code=code_hierarchical)"
   ]
  },
  {
   "cell_type": "code",
   "execution_count": 53,
   "metadata": {},
   "outputs": [
    {
     "name": "stdout",
     "output_type": "stream",
     "text": [
      "(8000, 5, 57)\n"
     ]
    }
   ],
   "source": [
    "fit_hier = sm_hierarchical.sampling(data=stan_data, iter=4000);\n",
    "samples_hier = fit_hier.extract(permuted=True);\n",
    "print(samples_hier[\"log_lik\"].shape)\n"
   ]
  },
  {
   "cell_type": "code",
   "execution_count": 54,
   "metadata": {},
   "outputs": [],
   "source": [
    "log_lik_hier = samples_hier[\"log_lik\"].reshape(samples_hier[\"log_lik\"].shape[0], samples_hier[\"log_lik\"].shape[1]*samples_hier[\"log_lik\"].shape[2])\n",
    "hier_loo, hier_loos, hier_ks = psisloo(log_lik_hier)\n",
    "hier_lppd = np.sum(np.log(np.mean(np.exp(log_lik_hier), axis=0)))\n",
    "hier_peff = hier_lppd-hier_loo\n",
    "# print(hier_loo)\n",
    "# print(hier_peff)\n",
    "# print(sum(hier_ks<.7)/len(hier_ks))\n"
   ]
  },
  {
   "cell_type": "code",
   "execution_count": 56,
   "metadata": {},
   "outputs": [
    {
     "data": {
      "text/html": [
       "<table border=\"1\" class=\"dataframe\">\n",
       "  <thead>\n",
       "    <tr style=\"text-align: right;\">\n",
       "      <th></th>\n",
       "      <th>PSIS-LOO</th>\n",
       "      <th>p_eff</th>\n",
       "    </tr>\n",
       "  </thead>\n",
       "  <tbody>\n",
       "    <tr>\n",
       "      <th>Separate</th>\n",
       "      <td>-225.708868</td>\n",
       "      <td>14.772122</td>\n",
       "    </tr>\n",
       "    <tr>\n",
       "      <th>Hierarchical</th>\n",
       "      <td>-270.962374</td>\n",
       "      <td>12.977171</td>\n",
       "    </tr>\n",
       "  </tbody>\n",
       "</table>"
      ],
      "text/plain": [
       "<IPython.core.display.HTML object>"
      ]
     },
     "metadata": {},
     "output_type": "display_data"
    }
   ],
   "source": [
    "data = [[sep_loo, sep_peff],\n",
    "        [hier_loo, hier_peff]]\n",
    "table = pd.DataFrame(data, index=[\"Separate\",  \"Hierarchical\"],\n",
    "                     columns=[\"PSIS-LOO\", \"p_eff\"])\n",
    "display(HTML(table.to_html()))"
   ]
  },
  {
   "cell_type": "code",
   "execution_count": 57,
   "metadata": {},
   "outputs": [
    {
     "data": {
      "image/png": "[encoded data removed]",
      "text/plain": [
       "<Figure size 1080x216 with 2 Axes>"
      ]
     },
     "metadata": {},
     "output_type": "display_data"
    }
   ],
   "source": [
    "f, ax = plt.subplots(1, 2, sharey=True, figsize=(15, 3));\n",
    "ax[0].plot(sep_ks, \".\");\n",
    "ax[0].plot([.7 for _ in sep_ks]);\n",
    "ax[0].set_ylim((0,1));\n",
    "ax[0].set_title(\"$k$-values for the separate model\");\n",
    "ax[1].plot(hier_ks, \".\");\n",
    "ax[1].plot([.7 for _ in hier_ks]);\n",
    "ax[1].set_title(\"$k$-values for the hierarchical model\");"
   ]
  },
  {
   "cell_type": "code",
   "execution_count": 64,
   "metadata": {},
   "outputs": [
    {
     "name": "stdout",
     "output_type": "stream",
     "text": [
      "[82.61711534 82.40558347 82.69151439 ... 81.64933815 80.67381445\n",
      " 82.24801221]\n"
     ]
    },
    {
     "data": {
      "image/png": "[encoded data removed]",
      "text/plain": [
       "<Figure size 432x288 with 1 Axes>"
      ]
     },
     "metadata": {},
     "output_type": "display_data"
    }
   ],
   "source": [
    "# get all samples of a certain county and year\n",
    "# samples_hier - hierarchical model, samples_separate - separate model\n",
    "print(samples_hier['ypred'][:, 0, 0]) #second index is the country index (0=FI, 1=BG, 2=SL, 3=ES, 4=DE)\n",
    "                                      #third index is the year index in the 'xpred' list\n",
    "plt.hist(samples_hier['ypred'][:, 0, 0], bins = 20)\n",
    "plt.title(\"Samples of predictions of life expectancy in Finland for 2017\")\n",
    "plt.show()\n",
    "# to get rhat values just print the fit - fit_separate or fit_hier\n",
    "#print(fit_separate)\n"
   ]
  }
 ],
 "metadata": {
  "kernelspec": {
   "display_name": "Python 3",
   "language": "python",
   "name": "python3"
  },
  "language_info": {
   "codemirror_mode": {
    "name": "ipython",
    "version": 3
   },
   "file_extension": ".py",
   "mimetype": "text/x-python",
   "name": "python",
   "nbconvert_exporter": "python",
   "pygments_lexer": "ipython3",
   "version": "3.6.5"
  }
 },
 "nbformat": 4,
 "nbformat_minor": 2
}
